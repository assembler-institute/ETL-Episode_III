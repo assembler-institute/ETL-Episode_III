{
 "cells": [
  {
   "attachments": {},
   "cell_type": "markdown",
   "id": "ca93c92e",
   "metadata": {},
   "source": [
    "# ETL II: Exercises\n",
    "\n",
    "## 1.- The flights data\n",
    "\n",
    "In this exercise, you will make an API call to obtain some data, and your task is to store that data in an SQL database with specific fields and format.\n",
    "\n",
    "\n",
    "\n",
    "The destination table should have the following structure:\n",
    "\n",
    "- id: A unique identifier for each flight (composed of the date in the format YYYYMMDD + flight number)\n",
    "- flightNumber: The flight number in the format AA0000 (can contain null values)\n",
    "- flightDate: The date of the flight (DATE format)\n",
    "- flightTime: The departure time of the flight in HH:MM format\n",
    "- arrivalTime: The arrival time of the flight in HH:MM format\n",
    "- aircraftType: The aircraft model in XXXX format\n",
    "- aircraftPlate: The aircraft plate number in XXXXXX format (can contain null values)\n",
    "- origin: The airport code of departure in XX format\n",
    "- destination: The airport code of arrival in XX format\n",
    "- status: The flight status in text format\n",
    "\n",
    "**TIP**: Before executing the Python code, you can practice making the requests in POSTMAN.\n",
    "\n",
    "**Notes:**\n",
    "- API base: `https://api.oan.one/assembler/`\n",
    "- API endpoint: `/etl/ej2`\n",
    "- Token Header: `oanToken`\n",
    "- Token: `ZF7xNEuLAZ5DKLQAEGVUq6VquGLQdsL7`"
   ]
  },
  {
   "attachments": {},
   "cell_type": "markdown",
   "id": "6cce2c5a",
   "metadata": {},
   "source": [
    "## 2. Spain Cities and Villages\n",
    "\n",
    "For this exercise, you need to create a database containing data from the geography of Spain.\n",
    "\n",
    "To accomplish this, you'll need to create three SQL tables containing the following information:\n",
    "\n",
    "**State (comunidades autónomas)**\n",
    "- id -> Sequential numeric value starting from 1001\n",
    "- countryCode -> Always \"ES\" in our case\n",
    "- name -> Name of the state\n",
    "\n",
    "**Region (provincia)**\n",
    "- id -> Sequential numeric value starting from 1001\n",
    "- stateID -> ID of the corresponding state\n",
    "- name -> Name of the region\n",
    "\n",
    "**Cities**\n",
    "- id -> Sequential numeric value starting from 1001\n",
    "- regionID -> ID of the corresponding region\n",
    "- Name -> Name of the city\n",
    "- Residenst -> Number of residents in each city\n",
    "\n",
    "<br>\n",
    "\n",
    "**Notes:**\n",
    "\n",
    "- The data must be extracted from Wikipedia by performing web scraping on the page: https://es.wikipedia.org/wiki/Anexo:Municipios_de_Espa%C3%B1a_por_poblaci%C3%B3n\n",
    "\n",
    "- Keep in mind that you'll need to clean and standardize the data formats."
   ]
  }
 ],
 "metadata": {
  "kernelspec": {
   "display_name": "Python 3 (ipykernel)",
   "language": "python",
   "name": "python3"
  },
  "language_info": {
   "codemirror_mode": {
    "name": "ipython",
    "version": 3
   },
   "file_extension": ".py",
   "mimetype": "text/x-python",
   "name": "python",
   "nbconvert_exporter": "python",
   "pygments_lexer": "ipython3",
   "version": "3.9.12"
  },
  "toc": {
   "base_numbering": 1,
   "nav_menu": {},
   "number_sections": true,
   "sideBar": true,
   "skip_h1_title": false,
   "title_cell": "Table of Contents",
   "title_sidebar": "Contents",
   "toc_cell": false,
   "toc_position": {},
   "toc_section_display": true,
   "toc_window_display": false
  }
 },
 "nbformat": 4,
 "nbformat_minor": 5
}
