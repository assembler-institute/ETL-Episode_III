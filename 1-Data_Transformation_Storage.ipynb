{
 "cells": [
  {
   "attachments": {},
   "cell_type": "markdown",
   "id": "b4439423",
   "metadata": {},
   "source": [
    "# ETL EII: data transformation and storage\n",
    "\n",
    "<br>\n",
    "\n",
    "<p align=\"center\">\n",
    "<img width=80 src=\"https://media.giphy.com/media/KAq5w47R9rmTuvWOWa/giphy.gif\"  class=\"center\" />\n",
    "</p>\n",
    "\n",
    "<p align=\"center\">\n",
    "    <img width=150 src=\"Images/assblr.png\">\n",
    "</p>\n",
    "    \n",
    "***"
   ]
  },
  {
   "attachments": {},
   "cell_type": "markdown",
   "id": "34eaf223",
   "metadata": {},
   "source": [
    "Once we have obtained the data through the extraction process (what we have studied in the previous Episode), the next step is to proceed with cleaning and working with the data.\n",
    "\n",
    "\n",
    "## Data transfromation\n",
    "\n",
    "When we refer to data transformation, we are describing the process of cleaning and preparing data to serve our specific purposes. This can involve tasks such as removing invalid data, formatting data correctly, adding new data, selecting specific subsets of data, and more.\n",
    "\n",
    "Throughout this material, we will explore the most common scenarios encountered in everyday data work. However, it's important to note that each project may have its unique requirements and variations.\n",
    "\n",
    "**Notes:** \n",
    "\n",
    "- This document does not provide explanations on data extraction, as it is not the primary focus of this material.\n",
    "\n",
    "- Besides, you already have knowledge on data extraction ;)\n",
    "\n",
    "- You are also familiar with some data cleaning techniques that we covered in the first and second modules (Fundamentals I & II). However, we will review some of those techniques and learn new ones.\n",
    "\n",
    "\n",
    "### Extracting data from a field\n",
    "\n",
    "Let's proceed with an example using the dataset from the oan.one API (you won't find any documentation -the API does not really exist :O-). We will retrieve a dataset with 5 airplanes from Spain and display only the first row. \n",
    "\n",
    "How?\n",
    "\n",
    "Here you have the neccessary information such as the API endpoint, required parameters, and authentication credentials:\n",
    "\n",
    "- API base URL: https://api.oan.one/assembler/\n",
    "\n",
    "- API endpoint: /aircraft/auth/last-5-country\n",
    "\n",
    "- Request type: POST\n",
    "\n",
    "- Token: oanToken = ZF7xNEuLAZ5DKLQAEGVUq6VquGLQdsL7\n",
    "\n",
    "- country: ISO Code; available options are ES (Spain), FR (France), PT (Portugal), GE (Germany), IT (Italy), etc.\n",
    "\n",
    "**Notes:**\n",
    "\n",
    "- If you do not specify the country parameter, the request will still be made, but it will be in blanck without any filter, and it will not return any data. \n",
    "\n",
    "- The only available filter for this API is the country parameter. \n",
    "\n"
   ]
  },
  {
   "cell_type": "code",
   "execution_count": null,
   "id": "8a24e42e",
   "metadata": {},
   "outputs": [],
   "source": [
    "# Type you code here:\n",
    "#\n",
    "#\n",
    "\n",
    "print(example_row)\n",
    "print(payload.status_code)\n",
    "print(payload.content)"
   ]
  },
  {
   "attachments": {},
   "cell_type": "markdown",
   "id": "27222bef",
   "metadata": {},
   "source": [
    "There are several methods to extract data from a field, but one of the most common methods is using the `split()` function. This function allows us to split a string into multiple parts based on a specified separator, such as empty spaces or a custom separator. \n",
    "\n",
    "Let's recall how this method works as it is extremely useful for handling strings. In the previous cell, you obtained the following JSON:\n",
    "\n",
    "<p align=\"center\">\n",
    "    <img width=1900 src=\"Images/OutputTransf.png\">\n",
    "</p>\n",
    "\n",
    "We will work on two simple cases:\n",
    "\n",
    "- In the first case, within the 'plate' field, we will only keep the first two initials and discard the hyphen and everything that follows.\n",
    "\n",
    "- In the second case, we will take the 'model_name' field and keep only the first word or string, discarding any numbers and spaces."
   ]
  },
  {
   "cell_type": "code",
   "execution_count": null,
   "id": "d222f13b",
   "metadata": {},
   "outputs": [],
   "source": [
    "# Type you code here:\n"
   ]
  },
  {
   "attachments": {},
   "cell_type": "markdown",
   "id": "6f361a04",
   "metadata": {},
   "source": [
    "### Formatting strings\n",
    "\n",
    "We have plenty of methods to transform and work with strings, and you're already familiar with many of them. However, here are some of the most common ones (although I hope that, being experts, there might be a few you haven't come across yet):\n",
    "\n",
    "\n",
    "| Method         | Description   |\n",
    "|:---------------|:----------------------|\n",
    "| capitalize()   | Converts the first character to upper case                                                    |\n",
    "| casefold()     | Converts string into lower case                                                               |\n",
    "| center()       | Returns a centered string                                                                     |\n",
    "| count()        | Returns the number of times a specified value occurs in a string                              |\n",
    "| encode()       | Returns an encoded version of the string                                                      |\n",
    "| endswith()     | Returns true if the string ends with the specified value                                      |\n",
    "| expandtabs()   | Sets the tab size of the string                                                               |\n",
    "| find()         | Searches the string for a specified value and returns the position of where it was found      |\n",
    "| format()       | Formats specified values in a string                                                          |\n",
    "| format_map()   | Formats specified values in a string                                                          |\n",
    "| index()        | Searches the string for a specified value and returns the position of where it was found      |\n",
    "| isalnum()      | Returns True if all characters in the string are alphanumeric                                 |\n",
    "| isalpha()      | Returns True if all characters in the string are in the alphabet                              |\n",
    "| isascii()      | Returns True if all characters in the string are ascii characters                             |\n",
    "| isdecimal()    | Returns True if all characters in the string are decimals                                     |\n",
    "| isdigit()      | Returns True if all characters in the string are digits                                       |\n",
    "| isidentifier() | Returns True if the string is an identifier                                                   |\n",
    "| islower()      | Returns True if all characters in the string are lower case                                   |\n",
    "| isnumeric()    | Returns True if all characters in the string are numeric                                      |\n",
    "| isprintable()  | Returns True if all characters in the string are printable                                    |\n",
    "| isspace()      | Returns True if all characters in the string are whitespaces                                  |\n",
    "| istitle()      | Returns True if the string follows the rules of a title                                       |\n",
    "| isupper()      | Returns True if all characters in the string are upper case                                   |\n",
    "| join()         | Converts the elements of an iterable into a string                                            |\n",
    "| ljust()        | Returns a left justified version of the string                                                |\n",
    "| lower()        | Converts a string into lower case                                                             |\n",
    "| lstrip()       | Returns a left trim version of the string                                                     |\n",
    "| maketrans()    | Returns a translation table to be used in translations                                        |\n",
    "| partition()    | Returns a tuple where the string is parted into three parts                                   |\n",
    "| replace()      | Returns a string where a specified value is replaced with a specified value                   |\n",
    "| rfind()        | Searches the string for a specified value and returns the last position of where it was found |\n",
    "| rindex()       | Searches the string for a specified value and returns the last position of where it was found |\n",
    "| rjust()        | Returns a right justified version of the string                                               |\n",
    "| rpartition()   | Returns a tuple where the string is parted into three parts                                   |\n",
    "| rsplit()       | Splits the string at the specified separator, and returns a list                              |\n",
    "| rstrip()       | Returns a right trim version of the string                                                    |\n",
    "| split()        | Splits the string at the specified separator, and returns a list                              |\n",
    "| splitlines()   | Splits the string at line breaks and returns a list                                           |\n",
    "| startswith()   | Returns true if the string starts with the specified value                                    |\n",
    "| strip()        | Returns a trimmed version of the string                                                       |\n",
    "| swapcase()     | Swaps cases, lower case becomes upper case and vice versa                                     |\n",
    "| title()        | Converts the first character of each word to upper case                                       |\n",
    "| translate()    | Returns a translated string                                                                   |\n",
    "| upper()        | Converts a string into upper case                                                             |\n",
    "| zfill()        | Fills the string with a specified number of 0 values at the beginning                         |\n",
    "\n",
    "\n",
    "<br>\n",
    "\n",
    "All this methos are used like `string.method()`. \n",
    "\n",
    "Below you can work some examples:"
   ]
  },
  {
   "cell_type": "code",
   "execution_count": null,
   "id": "c476b180",
   "metadata": {},
   "outputs": [],
   "source": [
    "# Type you code here:"
   ]
  },
  {
   "attachments": {},
   "cell_type": "markdown",
   "id": "c7dd42e5",
   "metadata": {},
   "source": [
    "### Formatting numbers\n",
    "\n",
    "As you know, in Python, we have three types of numbers:\n",
    "\n",
    "- int -> represents integer values, such as 1.\n",
    "- float -> represents floating-point numbers, such as 1.5.\n",
    "- complex -> represents complex numbers, with a real and imaginary part, such as 1j.\n",
    "\n",
    "We can convert numbers between these types using the following native functions:\n",
    "\n",
    "- int() -> converts a number to an integer.\n",
    "- float() -> converts a number to a floating-point number.\n",
    "- complex() -> converts a number to a complex number.\n",
    "\n",
    "Below is a code cell where you can review and practice some of these methods if you wish:"
   ]
  },
  {
   "cell_type": "code",
   "execution_count": null,
   "id": "7ef355cc",
   "metadata": {},
   "outputs": [],
   "source": [
    "# Type you code here:"
   ]
  },
  {
   "attachments": {},
   "cell_type": "markdown",
   "id": "107ef68f",
   "metadata": {},
   "source": [
    "### Formatting dates\n",
    "\n",
    "Working with dates can be challenging at times, but fortunately, Python provides a powerful library that makes it easier. The library is called \"datetime\" and it offers a wide range of functions and methods for working with dates and times. With this library, you can perform various operations such as date formatting, calculating time differences, extracting specific components from a date, and much more.\n",
    "\n",
    "Documentation: https://docs.python.org/es/3/library/datetime.html"
   ]
  },
  {
   "cell_type": "code",
   "execution_count": null,
   "id": "31d1c3e9",
   "metadata": {},
   "outputs": [],
   "source": [
    "import time\n",
    "from datetime import datetime\n",
    "\n",
    "unix_time = int(time.time())\n",
    "date = str(datetime.now())"
   ]
  },
  {
   "cell_type": "code",
   "execution_count": null,
   "id": "44a5248c",
   "metadata": {},
   "outputs": [],
   "source": [
    "print('Unix time', unix_time)\n",
    "print('Read format', date)"
   ]
  },
  {
   "attachments": {},
   "cell_type": "markdown",
   "id": "e577b685",
   "metadata": {},
   "source": [
    "When working with dates, it can be helpful to use the Unix format, as it allows us to treat dates as numerical values.\n",
    "\n",
    "Unix time, also known as Unix timestamp or POSIX time, is a system for representing time as a numerical value. It is the number of seconds that have elapsed since 00:00:00 Coordinated Universal Time (UTC) on January 1, 1970, excluding leap seconds.\n",
    "\n",
    "Unix time is widely used in computing systems and programming languages as a standard way to represent and work with time. It provides a consistent and universal reference point for measuring time across different platforms and applications.\n",
    "\n",
    "The advantage of using Unix time is that it allows for easy calculations and comparisons between dates and times. By representing time as a numerical value, operations such as addition, subtraction, and comparison can be performed using simple arithmetic.\n",
    "\n",
    "However, sometimes the data is not in Unix format but is in a readable format, such as the case of the airplane's date. In such situations, we need to convert the date into Unix format.\n",
    "\n",
    "**Let's explore how we can transform a readable date into Unix format using Python.**\n",
    "\n",
    "But first, you need to make the conversion to a datetime object work correctly. You should obtain the following output:\n",
    "\n",
    "<p align=\"center\">\n",
    "    <img width=400 src=\"Images/OutputDate.png\">\n",
    "</p>\n",
    "\n",
    "Please complete the cell below to ensure that it functions as intended."
   ]
  },
  {
   "cell_type": "code",
   "execution_count": null,
   "id": "273c8a58",
   "metadata": {},
   "outputs": [],
   "source": [
    "print('Our data was:', example_row)\n",
    "print()\n",
    "\n",
    "print('Original format:', example_row['built'], '\\n- Format type:', type(example_row['built']).__name__)\n",
    "\n",
    "date_object = datetime.strptime(example_row['built'], \n",
    "                                         #\n",
    "                                         # Type you fode here:\n",
    "                                         #\n",
    "                                         # Complete the format specification used to represent \n",
    "                                         # a date and time in the specific format shown before.\n",
    "                                         #\n",
    "                                         )\n",
    "\n",
    "unix_time = int(time.mktime(date_object.timetuple()))\n",
    "\n",
    "print()\n",
    "print('Date object:', date_object)\n",
    "print('- date_object format:', type(date_object).__name__)\n",
    "print()\n",
    "print('Unix time:', unix_time)"
   ]
  },
  {
   "attachments": {},
   "cell_type": "markdown",
   "id": "f876b281",
   "metadata": {},
   "source": [
    "`strf` and `strp` are commonly used abbreviations for two functions related to formatting and parsing dates and times in Python:\n",
    "\n",
    "1. `strftime()`: is used to format a datetime object into a string representation according to a specified format. The `strftime()` function takes a format string as an argument, which consists of special format codes that are replaced with the corresponding values from the datetime object.\n",
    "\n",
    "2. `strptime()`: is used to parse a string representation of a date or time into a datetime object. It takes two arguments: the string containing the date or time, and a format string specifying the expected format of the input string.\n",
    "\n",
    "\n",
    "As you have seen before, `datetime.now()` will return the current date and time. "
   ]
  },
  {
   "cell_type": "code",
   "execution_count": null,
   "id": "cc179250",
   "metadata": {},
   "outputs": [],
   "source": [
    "date = datetime.now()\n",
    "date"
   ]
  },
  {
   "attachments": {},
   "cell_type": "markdown",
   "id": "5119f54f",
   "metadata": {},
   "source": [
    "Change the format to obtain the following date format:\n",
    "\n",
    "`'2023-06-16 13:15'`"
   ]
  },
  {
   "cell_type": "code",
   "execution_count": null,
   "id": "07d27733",
   "metadata": {},
   "outputs": [],
   "source": [
    "# Type your code here:\n"
   ]
  },
  {
   "attachments": {},
   "cell_type": "markdown",
   "id": "7d0b6362",
   "metadata": {},
   "source": [
    "### Working with dataframes"
   ]
  },
  {
   "attachments": {},
   "cell_type": "markdown",
   "id": "13175965",
   "metadata": {},
   "source": [
    "In Episode II, you learned how to load a DataFrame in pandas from a CSV file (remember that sometimes you need to specify the separator). However, most APIs return data in JSON format in response to our requests.\n",
    "\n",
    "The question now is how to convert our JSON data into a DataFrame.\n",
    "\n",
    "#### Creating a df from a JSON\n",
    "\n",
    "We'll use the example of the last 5 delivered airplanes obtained from the previous API call (endpoint: ).\n",
    "\n",
    "The first step is to take the first result (you have assigned the name 'payload' to it in the first cell) and extract the keys or column names:"
   ]
  },
  {
   "cell_type": "code",
   "execution_count": null,
   "id": "bc28f948",
   "metadata": {},
   "outputs": [],
   "source": [
    "# Type your code here:\n"
   ]
  },
  {
   "attachments": {},
   "cell_type": "markdown",
   "id": "ae2507e0",
   "metadata": {},
   "source": [
    "Once we have extracted the keys or column names from the JSON data, we can proceed to format the rest of the data. This involves iterating through each result and extracting the corresponding values for each key."
   ]
  },
  {
   "cell_type": "code",
   "execution_count": null,
   "id": "80a026d3",
   "metadata": {},
   "outputs": [],
   "source": [
    "# Type your code here:\n",
    "#\n",
    "#\n",
    "\n",
    "print(content)"
   ]
  },
  {
   "attachments": {},
   "cell_type": "markdown",
   "id": "27372916",
   "metadata": {},
   "source": [
    "And the last step is to create the dataframe with the formatted data. Call it `last_aircraft_df`."
   ]
  },
  {
   "cell_type": "code",
   "execution_count": null,
   "id": "87182f85",
   "metadata": {},
   "outputs": [],
   "source": [
    "# Type your code here:\n"
   ]
  },
  {
   "attachments": {},
   "cell_type": "markdown",
   "id": "fe0f855a",
   "metadata": {},
   "source": [
    "#### Adding new data to the dataframe\n",
    "\n",
    "In this case, let's retrieve aircraft data from another country and add them to our existing dataframe.\n",
    "\n",
    "Repeat the extraction, but change the 'Country' parameter to 'US'."
   ]
  },
  {
   "cell_type": "code",
   "execution_count": null,
   "id": "731177a9",
   "metadata": {},
   "outputs": [],
   "source": [
    "# Type your code here:\n"
   ]
  },
  {
   "cell_type": "code",
   "execution_count": null,
   "id": "f1e3eb99",
   "metadata": {},
   "outputs": [],
   "source": [
    "payload.content"
   ]
  },
  {
   "attachments": {},
   "cell_type": "markdown",
   "id": "e0f201c3",
   "metadata": {},
   "source": [
    "Now that we have the data from our new request in JSON format, we can append new rows to the dataframe using the loc method and adding them at the end."
   ]
  },
  {
   "cell_type": "code",
   "execution_count": null,
   "id": "487119c3",
   "metadata": {},
   "outputs": [],
   "source": [
    "# Type your code here:\n"
   ]
  },
  {
   "attachments": {},
   "cell_type": "markdown",
   "id": "a11ef9a5",
   "metadata": {},
   "source": [
    "#### Reformatting a column\n",
    "\n",
    "Now let's see how we can reformat a specific column, such as the build date, to a different format. \n",
    "\n",
    "In this case, we want the date to be in the following format: YYYY-MM-DD (with 4 digits for the year, 2 digits for the month, and 2 digits for the day).\n",
    "\n",
    "**Attention!** It's not always the best option to reformat the date using the datetime format. Take a close look at what you want to modify! Perhaps you can split the string using a suitable character ;)"
   ]
  },
  {
   "cell_type": "code",
   "execution_count": null,
   "id": "98cd4fbd",
   "metadata": {},
   "outputs": [],
   "source": [
    "# Type your code here:\n"
   ]
  },
  {
   "attachments": {},
   "cell_type": "markdown",
   "id": "fbeec84e",
   "metadata": {},
   "source": [
    "#### Filtering a dataframe\n",
    "\n",
    "If we only need to extract specific data or if we want to merge/join dataframes based on certain conditions, we can achieve that by filtering the dataframe.\n",
    "\n",
    "##### Single condition\n",
    "\n",
    "Filter the dataframe to include only the airplanes belonging to Spain.\n"
   ]
  },
  {
   "cell_type": "code",
   "execution_count": null,
   "id": "07b62a23",
   "metadata": {},
   "outputs": [],
   "source": [
    "# Type your code here:\n"
   ]
  },
  {
   "attachments": {},
   "cell_type": "markdown",
   "id": "9e9fa624",
   "metadata": {},
   "source": [
    "##### Multiple condition\n",
    "\n",
    "Now filter the airplanes belonging to Spain whose model is either B763 or A359."
   ]
  },
  {
   "cell_type": "code",
   "execution_count": null,
   "id": "c06150c3",
   "metadata": {},
   "outputs": [],
   "source": [
    "# Type your code here:\n"
   ]
  },
  {
   "attachments": {},
   "cell_type": "markdown",
   "id": "bc598483",
   "metadata": {},
   "source": [
    "##### Pandas basic data manipulation\n",
    "\n",
    "There are different ways to manipulate data using built-in functions in pandas, such as:\n",
    "\n",
    "- Selecting observations based on their values using .query()\n",
    "\n",
    "- Rearranging the rows using .sort_values()\n",
    "\n",
    "- Selecting variables by their names using .filter()\n",
    "\n",
    "- Summarizing multiple values into a single summary using .groupby()\n",
    "\n",
    "<br>\n",
    "\n",
    "**Check this:**\n",
    "\n",
    "Filtering rows using .query(): This function allows you to subset observations based on their values. The first argument specifies the condition or filter for selecting rows, which can be label names or a boolean series. The second argument specifies the columns to be selected.\n",
    "\n",
    "In this case, our focus is on applying a boolean filter to the rows.\n",
    "\n",
    "The .query() function is particularly useful when you want to filter data based on specific conditions and retrieve a subset of the DataFrame that meets those conditions."
   ]
  },
  {
   "cell_type": "code",
   "execution_count": null,
   "id": "21c3d9dc",
   "metadata": {},
   "outputs": [],
   "source": [
    "last_aircraft_df.query('model == \"A20N\" & plate == \"EC-NTQ\"')"
   ]
  },
  {
   "attachments": {},
   "cell_type": "markdown",
   "id": "391270da",
   "metadata": {},
   "source": [
    "##### Arranging or sorting rows using .sort_values()\n",
    "\n",
    "This method, .sort_values(), functions similarly to .query(), but instead of selecting rows, it changes the order of the rows. It takes a dataframe and a column name or a list of column names to sort by. If multiple column names are provided, each additional column will be used to break ties in the values of preceding columns."
   ]
  },
  {
   "cell_type": "code",
   "execution_count": null,
   "id": "d493b5ef",
   "metadata": {},
   "outputs": [],
   "source": [
    "last_aircraft_df.sort_values(by= ['built'], ascending=False)"
   ]
  },
  {
   "attachments": {},
   "cell_type": "markdown",
   "id": "b04fb6ee",
   "metadata": {},
   "source": [
    "##### Selecting Columns using .loc[] and .filter()\n",
    "\n",
    "It's not uncommon to work with datasets that contain hundreds or even thousands of variables. In such cases, the first challenge is often to narrow down the variables of interest. The `.filter()` function allows you to quickly focus on a specific subset of variables by using operations based on variable names."
   ]
  },
  {
   "cell_type": "code",
   "execution_count": null,
   "id": "13542e6d",
   "metadata": {},
   "outputs": [],
   "source": [
    "last_aircraft_df.filter(['plate', 'model', 'built'])"
   ]
  },
  {
   "attachments": {},
   "cell_type": "markdown",
   "id": "e114d944",
   "metadata": {},
   "source": [
    "Additionally, the `.loc[]` function is often used to select both rows and columns of a dataframe simultaneously. The first argument is used to select rows, while the second argument is used to select columns."
   ]
  },
  {
   "cell_type": "code",
   "execution_count": null,
   "id": "6d89547d",
   "metadata": {},
   "outputs": [],
   "source": [
    "last_aircraft_df.loc[:3, ['plate', 'model', 'built']]"
   ]
  },
  {
   "attachments": {},
   "cell_type": "markdown",
   "id": "4cc1b592",
   "metadata": {},
   "source": [
    "##### Grouping Data with .groupby() and Aggregating with .agg()\n",
    "\n",
    "In this example, we will demonstrate how to extract the newest aircraft for each model and country using the .groupby() function in combination with the .agg() function."
   ]
  },
  {
   "cell_type": "code",
   "execution_count": null,
   "id": "9013a3fb",
   "metadata": {},
   "outputs": [],
   "source": [
    "import numpy as np\n",
    "\n",
    "group = last_aircraft_df.groupby(['model','country'])\n",
    "\n",
    "group.agg(newest = ('built', np.max)).reset_index()"
   ]
  }
 ],
 "metadata": {
  "kernelspec": {
   "display_name": "Python 3 (ipykernel)",
   "language": "python",
   "name": "python3"
  },
  "language_info": {
   "codemirror_mode": {
    "name": "ipython",
    "version": 3
   },
   "file_extension": ".py",
   "mimetype": "text/x-python",
   "name": "python",
   "nbconvert_exporter": "python",
   "pygments_lexer": "ipython3",
   "version": "3.9.12"
  },
  "toc": {
   "base_numbering": "3",
   "nav_menu": {},
   "number_sections": true,
   "sideBar": true,
   "skip_h1_title": true,
   "title_cell": "Table of Contents",
   "title_sidebar": "Contents",
   "toc_cell": false,
   "toc_position": {},
   "toc_section_display": true,
   "toc_window_display": false
  }
 },
 "nbformat": 4,
 "nbformat_minor": 5
}
